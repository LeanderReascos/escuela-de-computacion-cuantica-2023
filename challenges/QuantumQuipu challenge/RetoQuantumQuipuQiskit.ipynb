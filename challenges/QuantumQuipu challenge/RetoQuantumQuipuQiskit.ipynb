{
  "cells": [
    {
      "cell_type": "markdown",
      "id": "0c730703-6978-4607-9663-9fc8e833e6cb",
      "metadata": {
        "id": "0c730703-6978-4607-9663-9fc8e833e6cb"
      },
      "source": [
        "# QuantumQuipu - Qiskit Fall Fest Latino"
      ]
    },
    {
      "cell_type": "markdown",
      "id": "93d1467f-721e-4555-9fe2-49d3342a81ef",
      "metadata": {
        "id": "93d1467f-721e-4555-9fe2-49d3342a81ef"
      },
      "source": [
        "Reto para el Qiskit Fall Fest Latino, Escuela en Español de Computación Cuántica\n",
        "\n",
        "Reto: Decodificar y Clasificar\n",
        "Este proyecto se enfoca en codificar los archivos challenge_train.csv y challenge_test.csv en al menos dos formas diferentes en un circuito cuántico (estas podrían ser codificaciones basadas en ángulos, amplitud, kernel, aleatorias o personalizadas).\n",
        "\n",
        "Diseña un circuito cuántico variacional para cada una de las codificaciones. Utiliza la columna \"Target\" como el objetivo, la cual es una clase binaria 0 y 1. Debes utilizar los datos de las columnas F1, F2, F3 y F4 para tu clasificador propuesto."
      ]
    },
    {
      "cell_type": "markdown",
      "id": "a7129797-048e-4216-88ef-66593bad06ca",
      "metadata": {
        "tags": [],
        "id": "a7129797-048e-4216-88ef-66593bad06ca"
      },
      "source": [
        "Solucion propuesta al reto:\n",
        "-\n"
      ]
    },
    {
      "cell_type": "markdown",
      "id": "c6324dfe-4552-4ed3-bf4b-b4296b9299c3",
      "metadata": {
        "id": "c6324dfe-4552-4ed3-bf4b-b4296b9299c3"
      },
      "source": [
        " Importamos las librerias necesarias para poder trabajar con los datos y el modelo"
      ]
    },
    {
      "cell_type": "code",
      "execution_count": 1,
      "id": "cbb3c03f-b13e-4472-952a-bbba401ec78c",
      "metadata": {
        "tags": [],
        "id": "cbb3c03f-b13e-4472-952a-bbba401ec78c"
      },
      "outputs": [],
      "source": [
        "# Importing standard Qiskit libraries\n",
        "from qiskit import QuantumCircuit, transpile\n",
        "from qiskit.tools.jupyter import *\n",
        "from qiskit.visualization import *\n",
        "#from ibm_quantum_widgets import *\n",
        "\n",
        "\n",
        "# qiskit-ibmq-provider has been deprecated.\n",
        "# Please see the Migration Guides in https://ibm.biz/provider_migration_guide for more detail.\n",
        "from qiskit_ibm_runtime import QiskitRuntimeService, Sampler, Estimator, Session, Options\n",
        "\n",
        "# Loading your IBM Quantum account(s)\n",
        "#service = QiskitRuntimeService(channel=\"ibm_quantum\")\n",
        "\n",
        "import pandas as pd\n",
        "\n",
        "# Invoke a primitive. For more details see https://qiskit.org/documentation/partners/qiskit_ibm_runtime/tutorials.html\n",
        "# result = Sampler(\"ibmq_qasm_simulator\").run(circuits).result()"
      ]
    },
    {
      "cell_type": "code",
      "execution_count": 2,
      "id": "39ef787a-8023-4c88-9161-da8ea6079540",
      "metadata": {
        "tags": [],
        "id": "39ef787a-8023-4c88-9161-da8ea6079540"
      },
      "outputs": [],
      "source": [
        "import matplotlib.pyplot as plt\n",
        "import numpy as np\n",
        "# Scikit Imports\n",
        "from sklearn import datasets\n",
        "from sklearn.model_selection import train_test_split\n",
        "from sklearn.svm import SVC\n",
        "from sklearn.decomposition import PCA\n",
        "from sklearn.preprocessing import StandardScaler, MinMaxScaler\n",
        "\n",
        "# Qiskit Imports\n",
        "from qiskit import Aer, execute\n",
        "from qiskit.circuit import QuantumCircuit, Parameter, ParameterVector\n",
        "from qiskit.circuit.library import PauliFeatureMap, ZFeatureMap, ZZFeatureMap\n",
        "from qiskit.circuit.library import TwoLocal, NLocal, RealAmplitudes, EfficientSU2\n",
        "from qiskit.circuit.library import HGate, RXGate, RYGate, RZGate, CXGate, CRXGate, CRZGate\n",
        "from qiskit_machine_learning.kernels import QuantumKernel"
      ]
    },
    {
      "cell_type": "markdown",
      "id": "d3ed4167-6b5b-4b79-be38-3453b3da200b",
      "metadata": {
        "id": "d3ed4167-6b5b-4b79-be38-3453b3da200b"
      },
      "source": [
        "# Procesamiento de datos:\n",
        "Primero se realiza un preprocesamiento de los datos de los dataset que se encuentran en los archivos challenge_train.csv y challenge_test.csv\n",
        "Se utiliza librerias de panda para seleccionar los features F1-F2-F3-F4 y luego se separan los labels de los datos.\n",
        "Por otro lado, se deben normalizar todos los datos entre -1, 1 para poder tratarlos en nuestro modelo.\n"
      ]
    },
    {
      "cell_type": "code",
      "execution_count": 3,
      "id": "32f2f967-25db-483e-a738-c56689b47ecb",
      "metadata": {
        "tags": [],
        "colab": {
          "base_uri": "https://localhost:8080/",
          "height": 206
        },
        "id": "32f2f967-25db-483e-a738-c56689b47ecb",
        "outputId": "b40f17b7-865c-4ca8-8a51-ec31b03873e1"
      },
      "outputs": [
        {
          "output_type": "execute_result",
          "data": {
            "text/plain": [
              "   Unnamed: 0        F1        F2        F3        F4  Target\n",
              "0           0 -0.291592  1.854606 -0.226004  1.694754       1\n",
              "1           1  0.327501  1.584748 -1.300541  0.471729       1\n",
              "2           2  0.227985  1.512023 -0.646984 -0.743707       1\n",
              "3           3 -0.453525  1.819041 -0.870957 -1.452390       1\n",
              "4           4 -1.480420  1.278968 -1.193171 -0.000952       1"
            ],
            "text/html": [
              "\n",
              "  <div id=\"df-338d84f3-bb3b-47f9-97f1-ec0a633a7090\" class=\"colab-df-container\">\n",
              "    <div>\n",
              "<style scoped>\n",
              "    .dataframe tbody tr th:only-of-type {\n",
              "        vertical-align: middle;\n",
              "    }\n",
              "\n",
              "    .dataframe tbody tr th {\n",
              "        vertical-align: top;\n",
              "    }\n",
              "\n",
              "    .dataframe thead th {\n",
              "        text-align: right;\n",
              "    }\n",
              "</style>\n",
              "<table border=\"1\" class=\"dataframe\">\n",
              "  <thead>\n",
              "    <tr style=\"text-align: right;\">\n",
              "      <th></th>\n",
              "      <th>Unnamed: 0</th>\n",
              "      <th>F1</th>\n",
              "      <th>F2</th>\n",
              "      <th>F3</th>\n",
              "      <th>F4</th>\n",
              "      <th>Target</th>\n",
              "    </tr>\n",
              "  </thead>\n",
              "  <tbody>\n",
              "    <tr>\n",
              "      <th>0</th>\n",
              "      <td>0</td>\n",
              "      <td>-0.291592</td>\n",
              "      <td>1.854606</td>\n",
              "      <td>-0.226004</td>\n",
              "      <td>1.694754</td>\n",
              "      <td>1</td>\n",
              "    </tr>\n",
              "    <tr>\n",
              "      <th>1</th>\n",
              "      <td>1</td>\n",
              "      <td>0.327501</td>\n",
              "      <td>1.584748</td>\n",
              "      <td>-1.300541</td>\n",
              "      <td>0.471729</td>\n",
              "      <td>1</td>\n",
              "    </tr>\n",
              "    <tr>\n",
              "      <th>2</th>\n",
              "      <td>2</td>\n",
              "      <td>0.227985</td>\n",
              "      <td>1.512023</td>\n",
              "      <td>-0.646984</td>\n",
              "      <td>-0.743707</td>\n",
              "      <td>1</td>\n",
              "    </tr>\n",
              "    <tr>\n",
              "      <th>3</th>\n",
              "      <td>3</td>\n",
              "      <td>-0.453525</td>\n",
              "      <td>1.819041</td>\n",
              "      <td>-0.870957</td>\n",
              "      <td>-1.452390</td>\n",
              "      <td>1</td>\n",
              "    </tr>\n",
              "    <tr>\n",
              "      <th>4</th>\n",
              "      <td>4</td>\n",
              "      <td>-1.480420</td>\n",
              "      <td>1.278968</td>\n",
              "      <td>-1.193171</td>\n",
              "      <td>-0.000952</td>\n",
              "      <td>1</td>\n",
              "    </tr>\n",
              "  </tbody>\n",
              "</table>\n",
              "</div>\n",
              "    <div class=\"colab-df-buttons\">\n",
              "\n",
              "  <div class=\"colab-df-container\">\n",
              "    <button class=\"colab-df-convert\" onclick=\"convertToInteractive('df-338d84f3-bb3b-47f9-97f1-ec0a633a7090')\"\n",
              "            title=\"Convert this dataframe to an interactive table.\"\n",
              "            style=\"display:none;\">\n",
              "\n",
              "  <svg xmlns=\"http://www.w3.org/2000/svg\" height=\"24px\" viewBox=\"0 -960 960 960\">\n",
              "    <path d=\"M120-120v-720h720v720H120Zm60-500h600v-160H180v160Zm220 220h160v-160H400v160Zm0 220h160v-160H400v160ZM180-400h160v-160H180v160Zm440 0h160v-160H620v160ZM180-180h160v-160H180v160Zm440 0h160v-160H620v160Z\"/>\n",
              "  </svg>\n",
              "    </button>\n",
              "\n",
              "  <style>\n",
              "    .colab-df-container {\n",
              "      display:flex;\n",
              "      gap: 12px;\n",
              "    }\n",
              "\n",
              "    .colab-df-convert {\n",
              "      background-color: #E8F0FE;\n",
              "      border: none;\n",
              "      border-radius: 50%;\n",
              "      cursor: pointer;\n",
              "      display: none;\n",
              "      fill: #1967D2;\n",
              "      height: 32px;\n",
              "      padding: 0 0 0 0;\n",
              "      width: 32px;\n",
              "    }\n",
              "\n",
              "    .colab-df-convert:hover {\n",
              "      background-color: #E2EBFA;\n",
              "      box-shadow: 0px 1px 2px rgba(60, 64, 67, 0.3), 0px 1px 3px 1px rgba(60, 64, 67, 0.15);\n",
              "      fill: #174EA6;\n",
              "    }\n",
              "\n",
              "    .colab-df-buttons div {\n",
              "      margin-bottom: 4px;\n",
              "    }\n",
              "\n",
              "    [theme=dark] .colab-df-convert {\n",
              "      background-color: #3B4455;\n",
              "      fill: #D2E3FC;\n",
              "    }\n",
              "\n",
              "    [theme=dark] .colab-df-convert:hover {\n",
              "      background-color: #434B5C;\n",
              "      box-shadow: 0px 1px 3px 1px rgba(0, 0, 0, 0.15);\n",
              "      filter: drop-shadow(0px 1px 2px rgba(0, 0, 0, 0.3));\n",
              "      fill: #FFFFFF;\n",
              "    }\n",
              "  </style>\n",
              "\n",
              "    <script>\n",
              "      const buttonEl =\n",
              "        document.querySelector('#df-338d84f3-bb3b-47f9-97f1-ec0a633a7090 button.colab-df-convert');\n",
              "      buttonEl.style.display =\n",
              "        google.colab.kernel.accessAllowed ? 'block' : 'none';\n",
              "\n",
              "      async function convertToInteractive(key) {\n",
              "        const element = document.querySelector('#df-338d84f3-bb3b-47f9-97f1-ec0a633a7090');\n",
              "        const dataTable =\n",
              "          await google.colab.kernel.invokeFunction('convertToInteractive',\n",
              "                                                    [key], {});\n",
              "        if (!dataTable) return;\n",
              "\n",
              "        const docLinkHtml = 'Like what you see? Visit the ' +\n",
              "          '<a target=\"_blank\" href=https://colab.research.google.com/notebooks/data_table.ipynb>data table notebook</a>'\n",
              "          + ' to learn more about interactive tables.';\n",
              "        element.innerHTML = '';\n",
              "        dataTable['output_type'] = 'display_data';\n",
              "        await google.colab.output.renderOutput(dataTable, element);\n",
              "        const docLink = document.createElement('div');\n",
              "        docLink.innerHTML = docLinkHtml;\n",
              "        element.appendChild(docLink);\n",
              "      }\n",
              "    </script>\n",
              "  </div>\n",
              "\n",
              "\n",
              "<div id=\"df-1526b493-688b-4fee-b7e5-fd26e168bfc4\">\n",
              "  <button class=\"colab-df-quickchart\" onclick=\"quickchart('df-1526b493-688b-4fee-b7e5-fd26e168bfc4')\"\n",
              "            title=\"Suggest charts\"\n",
              "            style=\"display:none;\">\n",
              "\n",
              "<svg xmlns=\"http://www.w3.org/2000/svg\" height=\"24px\"viewBox=\"0 0 24 24\"\n",
              "     width=\"24px\">\n",
              "    <g>\n",
              "        <path d=\"M19 3H5c-1.1 0-2 .9-2 2v14c0 1.1.9 2 2 2h14c1.1 0 2-.9 2-2V5c0-1.1-.9-2-2-2zM9 17H7v-7h2v7zm4 0h-2V7h2v10zm4 0h-2v-4h2v4z\"/>\n",
              "    </g>\n",
              "</svg>\n",
              "  </button>\n",
              "\n",
              "<style>\n",
              "  .colab-df-quickchart {\n",
              "      --bg-color: #E8F0FE;\n",
              "      --fill-color: #1967D2;\n",
              "      --hover-bg-color: #E2EBFA;\n",
              "      --hover-fill-color: #174EA6;\n",
              "      --disabled-fill-color: #AAA;\n",
              "      --disabled-bg-color: #DDD;\n",
              "  }\n",
              "\n",
              "  [theme=dark] .colab-df-quickchart {\n",
              "      --bg-color: #3B4455;\n",
              "      --fill-color: #D2E3FC;\n",
              "      --hover-bg-color: #434B5C;\n",
              "      --hover-fill-color: #FFFFFF;\n",
              "      --disabled-bg-color: #3B4455;\n",
              "      --disabled-fill-color: #666;\n",
              "  }\n",
              "\n",
              "  .colab-df-quickchart {\n",
              "    background-color: var(--bg-color);\n",
              "    border: none;\n",
              "    border-radius: 50%;\n",
              "    cursor: pointer;\n",
              "    display: none;\n",
              "    fill: var(--fill-color);\n",
              "    height: 32px;\n",
              "    padding: 0;\n",
              "    width: 32px;\n",
              "  }\n",
              "\n",
              "  .colab-df-quickchart:hover {\n",
              "    background-color: var(--hover-bg-color);\n",
              "    box-shadow: 0 1px 2px rgba(60, 64, 67, 0.3), 0 1px 3px 1px rgba(60, 64, 67, 0.15);\n",
              "    fill: var(--button-hover-fill-color);\n",
              "  }\n",
              "\n",
              "  .colab-df-quickchart-complete:disabled,\n",
              "  .colab-df-quickchart-complete:disabled:hover {\n",
              "    background-color: var(--disabled-bg-color);\n",
              "    fill: var(--disabled-fill-color);\n",
              "    box-shadow: none;\n",
              "  }\n",
              "\n",
              "  .colab-df-spinner {\n",
              "    border: 2px solid var(--fill-color);\n",
              "    border-color: transparent;\n",
              "    border-bottom-color: var(--fill-color);\n",
              "    animation:\n",
              "      spin 1s steps(1) infinite;\n",
              "  }\n",
              "\n",
              "  @keyframes spin {\n",
              "    0% {\n",
              "      border-color: transparent;\n",
              "      border-bottom-color: var(--fill-color);\n",
              "      border-left-color: var(--fill-color);\n",
              "    }\n",
              "    20% {\n",
              "      border-color: transparent;\n",
              "      border-left-color: var(--fill-color);\n",
              "      border-top-color: var(--fill-color);\n",
              "    }\n",
              "    30% {\n",
              "      border-color: transparent;\n",
              "      border-left-color: var(--fill-color);\n",
              "      border-top-color: var(--fill-color);\n",
              "      border-right-color: var(--fill-color);\n",
              "    }\n",
              "    40% {\n",
              "      border-color: transparent;\n",
              "      border-right-color: var(--fill-color);\n",
              "      border-top-color: var(--fill-color);\n",
              "    }\n",
              "    60% {\n",
              "      border-color: transparent;\n",
              "      border-right-color: var(--fill-color);\n",
              "    }\n",
              "    80% {\n",
              "      border-color: transparent;\n",
              "      border-right-color: var(--fill-color);\n",
              "      border-bottom-color: var(--fill-color);\n",
              "    }\n",
              "    90% {\n",
              "      border-color: transparent;\n",
              "      border-bottom-color: var(--fill-color);\n",
              "    }\n",
              "  }\n",
              "</style>\n",
              "\n",
              "  <script>\n",
              "    async function quickchart(key) {\n",
              "      const quickchartButtonEl =\n",
              "        document.querySelector('#' + key + ' button');\n",
              "      quickchartButtonEl.disabled = true;  // To prevent multiple clicks.\n",
              "      quickchartButtonEl.classList.add('colab-df-spinner');\n",
              "      try {\n",
              "        const charts = await google.colab.kernel.invokeFunction(\n",
              "            'suggestCharts', [key], {});\n",
              "      } catch (error) {\n",
              "        console.error('Error during call to suggestCharts:', error);\n",
              "      }\n",
              "      quickchartButtonEl.classList.remove('colab-df-spinner');\n",
              "      quickchartButtonEl.classList.add('colab-df-quickchart-complete');\n",
              "    }\n",
              "    (() => {\n",
              "      let quickchartButtonEl =\n",
              "        document.querySelector('#df-1526b493-688b-4fee-b7e5-fd26e168bfc4 button');\n",
              "      quickchartButtonEl.style.display =\n",
              "        google.colab.kernel.accessAllowed ? 'block' : 'none';\n",
              "    })();\n",
              "  </script>\n",
              "</div>\n",
              "    </div>\n",
              "  </div>\n"
            ]
          },
          "metadata": {},
          "execution_count": 3
        }
      ],
      "source": [
        "train_X = pd.read_csv(\"/content/challenge_train.csv\")\n",
        "train_X.head()"
      ]
    },
    {
      "cell_type": "markdown",
      "id": "4f0099be-c33e-4a21-bca8-c57232b72721",
      "metadata": {
        "id": "4f0099be-c33e-4a21-bca8-c57232b72721"
      },
      "source": [
        "Se realiza la lectura del archivo challenge_train.csv y se quitan las columnas \"Unnamed: 0\",\"Target\", para quedarnos con\n",
        "los features F1-F2-F3-F4.\n",
        "y se visualiza el resultado."
      ]
    },
    {
      "cell_type": "code",
      "execution_count": 5,
      "id": "da7da71d-d5d5-44fb-9a21-c99dcbb094af",
      "metadata": {
        "tags": [],
        "colab": {
          "base_uri": "https://localhost:8080/"
        },
        "id": "da7da71d-d5d5-44fb-9a21-c99dcbb094af",
        "outputId": "eb5c3dd5-a562-4734-ff0c-251daa6f3590"
      },
      "outputs": [
        {
          "output_type": "stream",
          "name": "stdout",
          "text": [
            "[[-0.29159167  1.85460625 -0.22600445  1.69475424]\n",
            " [ 0.32750058  1.58474758 -1.30054142  0.47172916]\n",
            " [ 0.22798503  1.51202301 -0.64698369 -0.74370682]\n",
            " ...\n",
            " [ 0.67806146 -1.03091865 -1.20941444  1.26961502]\n",
            " [-1.02709295  0.51535294  1.16909242 -1.5338886 ]\n",
            " [ 0.85671637  1.6612007   0.12964184 -0.7128217 ]]\n"
          ]
        }
      ],
      "source": [
        "sample_train = pd.read_csv(\"/content/challenge_train.csv\")\n",
        "\n",
        "to_drop = [\"Unnamed: 0\",\"Target\"]\n",
        "#to_drop = [\"Unnamed: 0\",\"Target\"]\n",
        "\n",
        "sample_train.drop(to_drop, inplace=True, axis=1)\n",
        "\n",
        "\n",
        "sample_train=sample_train.to_numpy()\n",
        "print(sample_train)"
      ]
    },
    {
      "cell_type": "markdown",
      "id": "bb0be160-653f-41d4-b611-800dee361e6c",
      "metadata": {
        "id": "bb0be160-653f-41d4-b611-800dee361e6c"
      },
      "source": [
        "Se realiza la lectura del archivo challenge_train.csv y se quitan las columnas \"Unnamed: 0\",\"F1\",\"F2\",\"F3\",\"F4\", para quedarnos con\n",
        "el \"Target\", de los datos \"Train\",\n",
        "y se visualiza el resultado."
      ]
    },
    {
      "cell_type": "code",
      "execution_count": 6,
      "id": "a4fd33cc-6932-4128-ba76-55229df13432",
      "metadata": {
        "tags": [],
        "colab": {
          "base_uri": "https://localhost:8080/"
        },
        "id": "a4fd33cc-6932-4128-ba76-55229df13432",
        "outputId": "d71aa095-7a35-4baf-9dad-287b5901b2a7"
      },
      "outputs": [
        {
          "output_type": "stream",
          "name": "stdout",
          "text": [
            "[1 1 1 1 1 0 1 0 1 0 1 0 1 1 1 1 1 1 1 0 0 0 0 1 1 1 1 1 1 0 1 1 0 0 0 0 1\n",
            " 1 1 0 1 0 0 0 0 1 1 0 0 0 0 1 1 0 1 0 1 0 1 0 0 1 1 0 0 1 1 0 0 1 1 0 0 0\n",
            " 0 0 1 1 0 1 0 1 0 1 1 1 0 0 1 0 0 0 1 1 0 0 0 0 1 1 1 0 0 1 1 0 1 1 1 0 0\n",
            " 0 1 1 1 1 0 1 0 0 1 0 0 0 1 0 0 0 0 1 0 0 0 0 1 1 1 1 1 0 0 0 1 1 1 1 1 0\n",
            " 1 1 0 0 0 0 1 0 1 0 1 1 1 1 1 0 0 1 1 0 0 0 1 1 0 0 1 0 0 1 1 1 0 1 1 0 1\n",
            " 1 1 0 1 1 0 1 1 0 1 0 1 1 0 0 0 0 0 0 0 0 1 1 1 0 0 0 0 1 1 1 1 1 0 0 1 1\n",
            " 1 1 1 1 1 1 0 0 1 0 0 0 0 0 1 0 0 1 1 1 1 1 1 1 1 1 0 0 0 0 0 1 0 1 1 0 1\n",
            " 0 0 1 1 0 1 1 0 1 1 1 1 1 1 0 0 1 0 1 1 1 0 0 0 0 1 1 1 1 1 0 1 0 1 0 1 1\n",
            " 0 1 0 0 1 0 0 1 0 1 0 0 1 0 0 0 0 0 1 0 0 0 0 1 1 1 0 0 1 0 1 1 1 0 1 0 1\n",
            " 0 0 1 0 1 0 1 1 1 0 1 1 0 1 1 1 1 0 1 1 0 1 1 0 0 0 1 0 0 0 0 0 1 0 1 1 1\n",
            " 1 1 1 0 1 1 0 0 1 1 1 0 0 0 0 0 1 1 1 1 1 1 0 1 0 0 1 0 0 0 0 1 1 1 0 1 1\n",
            " 0 1 0 1 0 0 1 1 0 1 1 0 1 1 0 0 1 0 0 0 0 0 0 1 1 1 1 0 1 1 0 1 0 0 0 0 1\n",
            " 1 1 0 0 1 0 1 0 0 1 0 1 0 1 1 1 0 1 1 1 0 1 1 0 0 1 1 0 0 1 1 1 1 1 1 1 1\n",
            " 1 0 1 0 1 0 1 1 0 0 0 0 1 1 0 1 1 1 1 1 1 0 0 1 0 0 0 0 0 0 1 0 0 1 1 1 0\n",
            " 0 0 1 1 1 1 1 0 1 1 1 0 0 0 0 1 1 0 0 0 0 1 0 1 0 0 0 1 0 1 0 1 0 1 0 0 1\n",
            " 0 0 0 1 0 0 0 1 1 0 1 1 0 0 1 1 0 0 1 0 0 1 1 0 1 1 1 0 1 1 1 0 0 0 1 0 1\n",
            " 0 1 0 0 0 0 1 0 0 1 0 0 1 0 0 0 0 1 1 0 1 1 1 1 1 0 0 1 1 1 1 1 0 1 1 0 1\n",
            " 1 0 0 0 0 1 1 1 0 0 1 1 0 0 0 1 0 1 0 1 1 0 1 0 0 0 0 0 0 1 1 0 0 0 1 1 0\n",
            " 1 0 1 0 0 0 1 1 1 0 0 0 0 0 1 0 0 0 1 0 0 1 1 0 1 1 1 0 0 1 0 0 1 0 1 1 1\n",
            " 1 0 0 0 0 0 1 1 0 0 1 0 1 0 1 1 0 0 1 0 1 1 1 1 0 0 0 1 1 1 1 1 0 0 1 0 0\n",
            " 0 0 1 0 1 0 0 1 0 0 1 1 0 1 0 0 1 0 1 0 1 0 0 0 1 0 0 0 0 0 1 0 0 1 1 0 1\n",
            " 1 1 0 1 1 1 0 1 1 0 1 0 0 0 0 1 1 0 0 1 0 1 1]\n"
          ]
        }
      ],
      "source": [
        "label_train = pd.read_csv(\"challenge_train.csv\")\n",
        "\n",
        "\n",
        "to_drop = [\"Unnamed: 0\",\"F1\",\"F2\",\"F3\",\"F4\"]\n",
        "\n",
        "label_train.drop(to_drop, inplace=True, axis=1)\n",
        "\n",
        "\n",
        "label_train=label_train.to_numpy()\n",
        "label_train=label_train.flatten()\n",
        "print(label_train)"
      ]
    },
    {
      "cell_type": "markdown",
      "id": "d13dc00e-eb3b-46e6-b893-971e51549e1d",
      "metadata": {
        "id": "d13dc00e-eb3b-46e6-b893-971e51549e1d"
      },
      "source": [
        "Se realiza la lectura del archivo challenge_test.csv y se quitan las columnas \"Unnamed: 0\",\"Target\", para quedarnos con\n",
        "los features F1-F2-F3-F4.\n",
        "y se visualiza el resultado."
      ]
    },
    {
      "cell_type": "code",
      "execution_count": 7,
      "id": "942e2262-abbe-428e-a9de-13b124bab7fa",
      "metadata": {
        "tags": [],
        "colab": {
          "base_uri": "https://localhost:8080/"
        },
        "id": "942e2262-abbe-428e-a9de-13b124bab7fa",
        "outputId": "f1e7619e-375f-4669-ddbf-87e2c48c4e33"
      },
      "outputs": [
        {
          "output_type": "stream",
          "name": "stdout",
          "text": [
            "[[ 1.86608758e+00  1.57425369e+00  1.38930042e-01 -3.51541853e-01]\n",
            " [ 8.39427083e-01 -1.06951761e+00 -4.32655334e-01 -9.64799705e-01]\n",
            " [ 5.57186509e-01 -9.21264426e-01 -3.79197949e-01 -3.02017932e-03]\n",
            " [-6.94572784e-01  1.87549473e+00  5.33210770e-01  6.59735305e-01]\n",
            " [-1.84433860e+00 -1.11609837e+00  1.07454856e+00 -1.56042978e-01]\n",
            " [ 2.45973268e+00 -1.00312958e+00  9.73319701e-01 -2.80417290e-01]\n",
            " [-1.69739105e+00 -8.85242411e-01  7.15804016e-01 -8.61774768e-01]\n",
            " [-1.78480547e+00 -9.46634648e-01  8.22761850e-02 -5.27520068e-01]\n",
            " [-4.36111043e-01  9.19132110e-01 -4.64658179e-01 -2.16959449e-01]\n",
            " [-1.19709396e+00 -1.18729744e-02 -3.33364459e-02  2.59625131e-01]\n",
            " [ 2.73330506e-01 -1.10049278e+00 -4.39109153e-01 -8.48291891e-01]\n",
            " [-2.12151177e+00 -9.12703580e-01 -8.88733543e-01 -1.40002814e+00]\n",
            " [-1.11504518e+00  9.82282486e-01  5.27288527e-01 -1.23472251e-01]\n",
            " [ 1.03174693e+00  2.18212764e+00 -1.05538381e+00 -9.07707790e-01]\n",
            " [-6.75212592e-01  1.87786035e+00  6.50069386e-01  9.58489092e-02]\n",
            " [ 4.01116621e-01 -1.01517081e+00 -1.04078173e+00 -1.45796125e+00]\n",
            " [-5.86962113e-01 -1.02282837e+00  1.01132358e+00 -6.76000241e-01]\n",
            " [ 3.55545118e-01  3.22691929e-01  1.33420601e-01 -1.67707332e+00]\n",
            " [-6.88389008e-01  8.17520754e-01  4.14520573e-01  3.94036991e-01]\n",
            " [-1.59278617e+00 -1.11741684e+00  7.89167193e-02  1.30686949e-01]\n",
            " [ 1.26225023e+00 -9.92226839e-01 -1.25733491e+00  8.53869789e-01]\n",
            " [ 1.45616639e+00 -9.33279161e-01  3.54438682e-01  7.97360301e-01]\n",
            " [ 1.11347644e+00  3.76831173e-01  1.88060773e-01  3.49761547e-01]\n",
            " [ 3.65150406e-02  3.20805354e-01  8.26207516e-01  7.28854439e-01]\n",
            " [ 3.50628211e-01  8.21258024e-01  9.58857932e-01  6.53484157e-01]\n",
            " [ 5.31945371e-01  2.56771151e+00 -2.47467518e-01  1.46420348e+00]\n",
            " [-1.26266672e+00  8.88432705e-01 -8.23138910e-01  1.57024225e+00]\n",
            " [-1.38741066e+00  2.23990288e+00 -5.66769236e-02  2.45417083e-01]\n",
            " [ 3.89845261e-01 -1.16480039e+00  4.43591955e-01  2.81004552e-01]\n",
            " [ 8.56235609e-01  7.05014798e-01  3.38260654e+00 -3.23949112e-01]\n",
            " [-1.38492108e+00  1.90450138e+00  1.95246149e-02  5.89051929e-01]\n",
            " [-9.43415968e-01  1.33291101e+00  4.44401454e-01  6.42735212e-01]\n",
            " [-9.88327216e-01 -2.46718008e-01 -1.05304652e+00  1.64477805e+00]\n",
            " [ 7.67562488e-01  6.35446875e-01 -7.04869086e-02 -2.67927392e-01]\n",
            " [-7.52075271e-01  2.24615130e+00  4.62206531e-01  7.77113878e-02]\n",
            " [ 8.12986659e-01  1.76191960e+00  1.33967221e+00 -6.89281596e-01]\n",
            " [ 1.23048903e+00 -9.90847628e-01  2.77760869e-01 -9.54281726e-01]\n",
            " [ 1.10608386e+00 -9.05545759e-01 -9.48974328e-01 -1.33530218e-01]\n",
            " [-3.57451315e-01 -8.63738931e-01  2.45249995e-01  1.29521568e-01]\n",
            " [-7.36664712e-01  7.80681013e-01 -5.89837206e-01  4.30948118e-01]\n",
            " [ 1.59264911e-01 -1.11135044e+00  3.41940628e-01 -1.40091115e+00]\n",
            " [ 9.19977323e-01 -1.05020133e+00  1.32384597e+00 -5.60487570e-01]\n",
            " [-2.34519404e+00 -1.10053741e+00 -1.41949227e+00  1.41666766e+00]\n",
            " [ 4.59719657e-01 -1.03175322e+00  1.52657158e+00 -9.30316820e-01]\n",
            " [ 6.27085290e-01 -8.28616528e-01  9.24600412e-01  1.19222462e+00]\n",
            " [ 4.02795579e-01  7.89151032e-01 -8.65187932e-02 -2.99749372e+00]\n",
            " [ 8.96881179e-01  7.94324095e-01  1.74548130e+00 -6.35935046e-01]\n",
            " [ 2.65730510e-01  6.63248232e-01  9.70762601e-01 -1.51941255e+00]\n",
            " [ 6.60013403e-01 -1.03258444e+00  1.14442115e+00  4.65857519e-02]\n",
            " [ 5.79013298e-01  2.15842458e+00 -2.30405298e-01  3.29017697e-01]\n",
            " [-8.03999666e-01 -9.91293730e-01  6.65965306e-01 -9.06308228e-01]\n",
            " [-1.82941995e+00 -8.63306026e-01  4.65443011e-01 -1.84186594e+00]\n",
            " [-1.68806622e-02  5.41771049e-01 -6.46271406e-01  5.15228856e-01]\n",
            " [ 6.56428135e-01 -7.90596733e-01 -1.42670909e+00  1.15583256e+00]\n",
            " [ 4.04885094e-02 -1.13585884e+00 -1.28140084e+00 -6.18483233e-01]\n",
            " [-8.32994478e-01 -1.00937116e+00 -8.91340489e-01 -1.16864355e+00]\n",
            " [-6.75999948e-01 -8.61082952e-01  1.13320246e+00  6.03758800e-01]\n",
            " [ 1.78068685e-01 -9.19941231e-01  9.81836052e-01 -4.97242693e-01]\n",
            " [ 1.74521323e+00 -9.62197014e-01  5.98932213e-01  5.98800673e-01]\n",
            " [-4.89400371e-02  1.07452993e+00 -9.77607239e-01 -4.91251523e-01]\n",
            " [-2.20092853e-02 -1.10637895e+00 -3.14522802e-01 -1.93121322e-01]\n",
            " [ 3.11802366e-01 -9.65974754e-01 -2.14922540e+00  1.87792756e+00]\n",
            " [-1.54174377e+00 -8.86632212e-01  9.34739623e-03  1.34167371e-01]\n",
            " [-1.01591054e+00 -9.81150418e-01  1.16314350e+00 -9.54226791e-01]\n",
            " [-1.57821928e+00  3.98722722e-01 -2.24130707e-01 -8.85013584e-01]\n",
            " [ 1.36366276e+00  2.03814096e+00  6.09696593e-01  6.55807201e-02]\n",
            " [ 5.39875066e-01 -1.05765582e+00  1.18041174e+00  7.45858939e-01]\n",
            " [-1.94859294e+00 -1.08550286e+00  1.18358029e+00  8.58819927e-01]\n",
            " [ 1.45122824e+00 -1.05104115e+00  3.19377467e-01 -4.10356931e-02]\n",
            " [ 7.79689815e-01  7.37399065e-01  1.13660806e+00 -3.17474546e-01]\n",
            " [ 7.00962234e-01 -1.14444046e+00  1.46227126e+00 -3.55919829e-01]\n",
            " [-5.73347130e-01 -1.12882355e+00  2.09589502e+00  1.46473666e+00]\n",
            " [-2.08351182e+00 -9.19565173e-01  5.01721638e-01 -9.02545821e-01]\n",
            " [ 1.42774507e+00 -1.06242211e+00  1.31722453e+00  1.58307654e-01]\n",
            " [ 2.09348635e+00 -1.10316729e+00 -8.52828057e-01 -8.52530983e-01]\n",
            " [ 9.30457582e-01  9.24785422e-01 -2.84232088e-01 -7.32292699e-01]\n",
            " [ 4.49138880e-01  1.56397363e+00  8.45374289e-01  6.32926116e-01]\n",
            " [ 1.18895679e+00  9.89382279e-01  5.74084700e-01  1.27742595e+00]\n",
            " [ 1.74152026e+00  9.13182767e-01  6.56485231e-01 -2.67205597e-01]\n",
            " [ 1.15483490e+00  1.14562797e+00  1.83220560e+00  7.76798292e-01]\n",
            " [-4.23672364e-01  1.24244608e+00 -1.64684118e+00 -4.79837811e-02]\n",
            " [-1.28753168e+00 -1.00486753e+00  5.12322037e-01  4.30842436e-01]\n",
            " [ 1.84965896e-01 -9.33089175e-01 -4.17704309e-01  9.97916554e-01]\n",
            " [-4.25351254e-01  1.51669482e+00  1.46190614e-01 -7.57547264e-01]\n",
            " [-5.66889320e-01 -9.51968550e-01 -3.54632209e-01  1.05460178e+00]\n",
            " [-9.29772311e-01 -9.46883432e-01  2.79438922e+00 -1.95198187e+00]\n",
            " [-7.00855144e-01 -2.09743939e-01  1.81381633e+00 -5.46989559e-01]\n",
            " [-5.30439081e-01  2.49247592e-01  2.22279684e+00 -1.33377954e-02]\n",
            " [ 1.25371400e+00  9.23918232e-01 -1.62696298e+00  1.16748060e+00]\n",
            " [-9.66296386e-01 -1.11589837e+00  5.81346266e-01  4.56375528e-03]\n",
            " [ 2.42434882e-01 -9.24128501e-01 -1.58599661e+00  1.23081351e+00]\n",
            " [ 6.52099409e-01 -9.74630086e-01 -2.07040350e+00  5.81181339e-02]\n",
            " [-5.76535999e-02 -1.18361905e+00  5.37188995e-02  1.31452021e+00]\n",
            " [-2.61537063e+00  7.80314004e-01 -9.21902608e-01 -3.89298032e-01]\n",
            " [ 1.21087956e+00  6.66102183e-01 -3.40591640e-01  1.92078252e+00]\n",
            " [ 7.33031463e-01  5.28742871e-01 -2.30635264e-01  3.59683230e-01]\n",
            " [ 1.02813270e+00 -1.04169358e+00  7.87292745e-01  2.53297741e-01]\n",
            " [ 8.06929327e-01  1.48973144e+00  1.07987046e+00 -1.75538817e+00]\n",
            " [-6.37966617e-01  9.49074531e-01 -4.32223962e-01 -2.71301922e-01]\n",
            " [ 6.28844019e-01 -1.01525304e+00 -4.26587831e-01 -7.47837141e-01]\n",
            " [-1.21413388e+00 -1.02452477e+00 -6.43940804e-01 -1.40578409e+00]\n",
            " [-8.60216642e-02  7.18294815e-01  7.49620966e-01 -1.90020203e+00]\n",
            " [ 1.01920019e+00 -1.25666445e+00 -7.65556004e-01  1.58903700e-02]\n",
            " [-2.93833779e-01  1.25974178e-01 -1.35266556e+00  9.21550492e-01]\n",
            " [-1.02679372e+00  1.26466593e+00  9.38749928e-01  1.76781577e+00]\n",
            " [-1.24794056e+00 -8.08206685e-01  4.80455173e-01  1.63667710e+00]\n",
            " [ 2.96538746e+00 -9.21895478e-01 -2.09639581e+00 -2.23017436e+00]\n",
            " [-5.96841408e-01 -1.01625795e+00  5.75154005e-01  5.56205537e-02]\n",
            " [-2.20499980e+00  1.42536834e+00  1.12980676e+00 -2.81543171e-01]\n",
            " [ 1.38284027e+00  1.36635929e+00 -1.59570648e+00 -5.51236397e-01]\n",
            " [-4.41170431e-01 -8.27577977e-01  2.44033371e-02 -1.01330947e-01]\n",
            " [-3.62914915e-01 -1.00743504e+00  2.01834521e+00 -9.58602929e-02]\n",
            " [ 2.82888002e-01 -9.42066042e-01 -9.24905862e-01  1.06565222e+00]\n",
            " [ 6.45182194e-01  4.10143820e-01  6.61134088e-01  1.99267069e-01]\n",
            " [-1.05834419e+00 -1.00382067e+00 -4.14007454e-01  2.56657292e-01]\n",
            " [ 3.45893831e-01  6.83893104e-01  3.38905844e-01 -8.17551232e-01]\n",
            " [-8.02143126e-01 -1.08312262e+00  1.17070728e+00 -2.67578124e-01]\n",
            " [ 5.45806746e-01 -5.64393633e-02 -7.63477179e-01 -4.18833007e-01]\n",
            " [ 9.84392693e-01  2.07611712e+00  9.06168659e-01 -3.95926756e-01]\n",
            " [-1.11999336e-01 -1.09662683e+00  2.25059227e-01 -9.50467567e-01]\n",
            " [-1.26664383e+00 -9.47531957e-01  1.51656043e+00  1.26829351e-01]\n",
            " [ 2.82748611e-01  8.66401894e-01 -2.97711313e-01 -1.20304749e-01]\n",
            " [ 4.73842743e-01  5.32078767e-01  1.30552056e+00  9.25597438e-01]\n",
            " [ 6.86150060e-01  5.24921294e-01 -1.24402039e+00  2.08739805e-01]\n",
            " [ 1.43256825e+00 -1.15129791e+00  2.44763129e-01 -2.67920677e-01]\n",
            " [-1.14661019e+00 -9.80515256e-01 -9.77668566e-01 -4.23380328e-01]\n",
            " [-1.02804496e+00 -3.88559603e-01 -1.50437507e+00  1.33667906e+00]\n",
            " [ 2.69564273e-01 -8.31620184e-01  1.17984150e+00  1.24190779e+00]\n",
            " [ 1.06836508e+00 -1.03030121e+00  7.80785886e-01  5.39319289e-01]\n",
            " [ 1.92234552e+00 -1.14905224e+00  6.02771799e-01  3.87193698e-01]\n",
            " [ 8.56302296e-02  5.52148779e-01  4.09827450e-02 -7.38319608e-01]\n",
            " [ 7.01723879e-01 -1.22133644e+00 -9.90062620e-01  8.97274561e-01]\n",
            " [ 8.70669062e-01  1.83972823e+00 -1.29553451e+00  7.53984836e-01]\n",
            " [-6.04504203e-01  1.33299488e+00  7.90895585e-01  1.74979434e+00]\n",
            " [-4.35970875e-01 -1.10121252e+00 -1.54744350e+00  1.14576741e+00]\n",
            " [-1.29838003e+00  7.04265108e-01 -2.64556277e-01  9.54595556e-01]\n",
            " [-1.11557151e+00 -9.68647197e-01  1.79193004e-01 -7.19046567e-01]\n",
            " [-3.56964717e-01  7.13875686e-01  7.47205011e-02  8.37796276e-01]\n",
            " [ 1.06414740e+00 -1.03559141e+00  2.89463162e-01  3.10302197e-01]\n",
            " [ 3.03945032e-01  1.10499881e+00  5.06627668e-01  1.32355514e+00]\n",
            " [-8.28590808e-01 -1.05396584e+00  6.52774053e-01 -1.59739488e+00]\n",
            " [-7.42760186e-02 -1.03262113e+00 -4.03881066e-01  1.13518383e+00]\n",
            " [ 1.28788683e+00 -9.58067731e-01  8.99708447e-01 -1.15411497e-01]\n",
            " [ 5.87733350e-01 -8.63260666e-01 -8.15533719e-01 -4.90632891e-01]\n",
            " [-2.57213260e-01 -9.90587785e-01 -9.33630761e-02 -1.00798255e+00]\n",
            " [-9.43604748e-01 -1.11550244e+00 -3.05666744e-01 -5.42920623e-01]\n",
            " [-8.99271816e-01  3.73041851e-01  9.40038438e-01  3.88134932e-01]\n",
            " [ 3.34052358e-01 -9.94571558e-01 -5.94981804e-01 -9.56441888e-01]\n",
            " [-6.48460435e-01 -1.00142371e+00  1.73839751e+00  7.87106089e-01]\n",
            " [-1.59486736e+00 -9.51018207e-01  7.56240505e-01  2.00538654e-01]\n",
            " [-1.19849643e-01  1.08978679e+00  2.30640384e-01 -1.61175580e+00]\n",
            " [-5.46090201e-01  1.24903904e+00  1.32793945e+00  1.69660798e+00]\n",
            " [-7.39075769e-01  7.35783516e-01 -7.40249668e-01 -8.09509696e-02]\n",
            " [ 4.08883809e-01  1.43831480e+00  1.61218374e+00 -4.16484568e-01]\n",
            " [ 6.84926659e-01 -1.10720750e+00 -4.73009016e-01 -3.54668136e-01]\n",
            " [-9.53944405e-01 -3.42913807e-01 -1.25854413e-01 -1.86095670e+00]\n",
            " [-5.06999590e-01 -9.53035827e-01  7.14998748e-01  5.34828401e-01]\n",
            " [-3.23907933e-01  1.89439189e+00 -7.92802212e-01 -1.30988104e+00]\n",
            " [ 8.95354751e-01  1.57621613e+00  6.39204922e-01  5.56648759e-01]\n",
            " [ 2.09398330e+00 -9.75586530e-01  3.76938438e-01  1.57312386e+00]\n",
            " [ 1.27054379e-01 -9.84524338e-01  2.86958722e+00  3.27698981e-01]\n",
            " [-6.06938042e-01 -8.96206764e-01  1.51626601e+00  4.59155312e-01]\n",
            " [ 1.67525391e+00  9.09703235e-01 -5.19179089e-01  4.45239679e-01]\n",
            " [ 6.11675614e-02  1.30228585e+00  4.40008062e-01  7.73931645e-01]\n",
            " [-2.30200113e+00 -9.87110387e-01  1.29788995e+00  1.52878607e+00]\n",
            " [ 5.17122591e-02  2.87053661e+00  1.03936167e+00  1.97246594e+00]\n",
            " [-1.25224542e+00  1.47961027e+00 -2.09107995e+00  9.82590493e-01]\n",
            " [ 4.33153476e-02 -1.07904904e+00  8.25121188e-01  5.51042521e-01]\n",
            " [-4.84142501e-01 -9.82707309e-01  7.03628077e-01  2.67892689e+00]\n",
            " [ 9.69731777e-02 -1.02865402e+00 -5.04122638e-01 -6.99307063e-01]\n",
            " [ 1.47217000e+00 -1.12831077e+00  2.28982691e-01  1.36683768e-01]\n",
            " [-4.49822033e-01  1.39274759e+00  6.41589254e-02 -5.01125653e-01]\n",
            " [ 7.12664811e-01  9.08002076e-01  4.28716141e-02 -1.77735019e-01]\n",
            " [ 1.73088088e-01  2.14023255e+00 -2.77303587e-01  1.49786386e+00]\n",
            " [-1.45739764e+00 -9.29447266e-01 -6.22246973e-01  1.78076935e+00]\n",
            " [ 6.96038860e-01 -8.95268282e-01  2.95348541e-02 -3.25989004e-01]\n",
            " [-4.82480250e-01  1.23061986e+00  8.11289942e-01 -1.87757024e-01]\n",
            " [-2.34604025e-01  8.68160440e-01  6.03819217e-01 -1.16113644e+00]\n",
            " [ 1.32397199e+00 -9.04592314e-01  2.02570239e+00  5.47609348e-01]\n",
            " [ 7.80170620e-01 -1.18857994e+00 -3.86055134e-01  1.31917747e+00]\n",
            " [ 1.66691418e+00  1.73179718e+00 -1.13741511e-01  8.16026191e-01]\n",
            " [ 4.09760841e-01 -1.22457120e+00  9.18704175e-01 -9.21569166e-01]\n",
            " [-5.92566211e-01 -9.80663504e-01  3.25743637e-01 -1.04503126e+00]\n",
            " [-2.07312978e+00 -1.14612172e+00 -6.78579654e-01 -3.62955519e-01]\n",
            " [-4.93146062e-01  1.01132192e+00  1.36657493e+00 -5.90719614e-01]\n",
            " [-1.95516405e+00  2.42220793e+00  2.64854514e-01 -1.71845768e-01]\n",
            " [-4.77853543e-01  2.53639312e-01 -1.90608356e+00  6.77577252e-01]\n",
            " [-1.53907058e-01  4.62087547e-01  1.38599816e-01 -9.60490643e-01]\n",
            " [ 4.36956010e-01  1.05725916e+00 -6.90896023e-01 -5.35256368e-01]\n",
            " [ 6.41293565e-01 -8.81535531e-01  1.22545215e+00 -4.58932386e-01]\n",
            " [ 7.91358645e-01 -8.68561816e-01 -1.99768263e+00 -4.76415007e-01]\n",
            " [ 6.15735177e-01  1.46792246e+00 -5.89679835e-01 -7.51200776e-01]\n",
            " [ 7.19812526e-01  1.50961729e+00  9.04572902e-01  1.11114268e+00]\n",
            " [-4.00128561e-01 -8.06920840e-01  6.18483765e-01  1.57229120e+00]\n",
            " [ 3.41046789e-01 -9.30618728e-01  3.79682776e-02 -1.11821046e+00]\n",
            " [-2.52386265e-01  9.68094079e-01 -1.86299421e+00  4.31966341e-01]\n",
            " [-8.19950649e-01 -8.98483870e-01  1.81926660e+00 -7.10163342e-01]\n",
            " [ 1.47834356e+00  2.00459042e+00  1.23692112e+00 -3.90806778e-01]\n",
            " [ 3.81874961e-01 -9.34499801e-01  2.14538178e+00  1.12164264e+00]\n",
            " [-6.41079337e-01 -9.22707234e-01 -1.08700946e+00 -8.88300510e-01]]\n"
          ]
        }
      ],
      "source": [
        "sample_test = pd.read_csv(\"challenge_test.csv\")\n",
        "\n",
        "to_drop = [\"Unnamed: 0\",\"Target\"]\n",
        "#to_drop = [\"Unnamed: 0\",\"F1\",\"F2\",\"F3\",\"F4\"]\n",
        "\n",
        "sample_test.drop(to_drop, inplace=True, axis=1)\n",
        "\n",
        "\n",
        "sample_test=sample_test.to_numpy()\n",
        "print(sample_test)"
      ]
    },
    {
      "cell_type": "markdown",
      "id": "f851fefc-5deb-4ba9-b7e3-624512f666cd",
      "metadata": {
        "id": "f851fefc-5deb-4ba9-b7e3-624512f666cd"
      },
      "source": [
        "Se realiza la lectura del archivo challenge_test.csv y se quitan las columnas \"Unnamed: 0\",\"F1\",\"F2\",\"F3\",\"F4\", para quedarnos con\n",
        "el \"Target\", de los datos \"Test\",\n",
        "y se visualiza el resultado."
      ]
    },
    {
      "cell_type": "code",
      "execution_count": 8,
      "id": "8d16dd01-3b0d-4c98-96cc-d270a3798ee1",
      "metadata": {
        "tags": [],
        "colab": {
          "base_uri": "https://localhost:8080/"
        },
        "id": "8d16dd01-3b0d-4c98-96cc-d270a3798ee1",
        "outputId": "6fe4dbd7-87b2-4aac-ee78-1d2072c742fd"
      },
      "outputs": [
        {
          "output_type": "stream",
          "name": "stdout",
          "text": [
            "[1 0 0 1 0 0 0 0 1 1 0 0 1 1 1 0 1 1 1 0 0 0 1 1 1 1 1 1 0 1 1 1 1 1 1 1 0\n",
            " 0 0 1 0 0 0 0 0 1 1 1 0 1 0 0 1 0 0 0 0 0 0 1 0 0 0 0 1 1 0 0 0 1 0 0 0 0\n",
            " 0 1 1 1 1 1 1 0 0 1 0 0 1 1 1 0 0 0 0 1 1 1 0 1 1 0 0 1 0 1 1 0 0 0 1 1 0\n",
            " 0 0 1 0 1 0 1 1 0 0 1 1 1 0 0 1 0 0 0 1 0 1 1 0 1 0 1 0 1 0 0 0 0 0 0 1 0\n",
            " 0 0 1 1 1 1 0 1 0 1 1 0 0 0 1 1 0 1 1 0 0 0 0 1 1 1 0 0 1 1 0 0 1 0 0 0 1\n",
            " 1 1 1 1 0 0 1 1 0 0 1 0 1 0 0]\n"
          ]
        }
      ],
      "source": [
        "label_test= pd.read_csv(\"challenge_test.csv\")\n",
        "\n",
        "\n",
        "to_drop = [\"Unnamed: 0\",\"F1\",\"F2\",\"F3\",\"F4\"]\n",
        "\n",
        "label_test.drop(to_drop, inplace=True, axis=1)\n",
        "\n",
        "\n",
        "label_test=label_test.to_numpy()\n",
        "label_test=label_test.flatten()\n",
        "print(label_test)"
      ]
    },
    {
      "cell_type": "markdown",
      "id": "1623b314-9b18-4688-8c23-67e88e938a78",
      "metadata": {
        "tags": [],
        "id": "1623b314-9b18-4688-8c23-67e88e938a78"
      },
      "source": [
        "# Ruduccion dimensional utilizando el metodo PCA:\n",
        "La reducción de dimensionalidad es una tarea crítica que también se puede lograr mediante el uso de redes neuronales. Las redes neuronales se pueden utilizar para la reducción de dimensionalidad entrenando una red neuronal multicapa para reconstruir vectores de entrada de alta dimensión con una pequeña capa central. PCA es un método comúnmente utilizado en el enfoque clásico, que descubre las direcciones de mayor varianza en el conjunto de datos y representa cada punto de datos mediante sus coordenadas a lo largo de cada una de estas direcciones. Una red codificadora multicapa transforma datos de alta dimensión en un código de baja dimensión, y una red decodificadora similar recupera los datos del código, es un enfoque generalizado. Se puede utilizar una máquina de Boltzmann restringida, una red de dos capas con píxeles binarios estocásticos y detectores de características conectados mediante conexiones ponderadas simétricamente, para modelar un conjunto de vectores binarios y asignar una probabilidad a cada imagen posible a través de una función de energía."
      ]
    },
    {
      "cell_type": "code",
      "execution_count": 9,
      "id": "b8081a81-213b-443e-8714-13e0b0c19839",
      "metadata": {
        "tags": [],
        "id": "b8081a81-213b-443e-8714-13e0b0c19839"
      },
      "outputs": [],
      "source": [
        "# Reduce dimensions\n",
        "n_dim = 4\n",
        "pca = PCA(n_components=n_dim).fit(sample_train)\n",
        "sample_train = pca.transform(sample_train)\n",
        "sample_test = pca.transform(sample_test)\n",
        "\n"
      ]
    },
    {
      "cell_type": "markdown",
      "id": "e0fc4a8d-9a43-4398-a091-91547bae6b6f",
      "metadata": {
        "id": "e0fc4a8d-9a43-4398-a091-91547bae6b6f"
      },
      "source": [
        "# Normalizamos los datos:"
      ]
    },
    {
      "cell_type": "code",
      "execution_count": 10,
      "id": "08b04648-0ca7-4753-88e0-02b04e8b45c3",
      "metadata": {
        "tags": [],
        "id": "08b04648-0ca7-4753-88e0-02b04e8b45c3"
      },
      "outputs": [],
      "source": [
        "# Normalise\n",
        "std_scale = StandardScaler().fit(sample_train)\n",
        "sample_train = std_scale.transform(sample_train)\n",
        "sample_test = std_scale.transform(sample_test)\n",
        "\n"
      ]
    },
    {
      "cell_type": "markdown",
      "id": "5b2e54c5-ab04-458e-95ff-9fb914dc0f0e",
      "metadata": {
        "id": "5b2e54c5-ab04-458e-95ff-9fb914dc0f0e"
      },
      "source": [
        "# Escalamos los datos:"
      ]
    },
    {
      "cell_type": "code",
      "execution_count": 15,
      "id": "57008d3d-e46c-487d-bd8f-6eae4875082b",
      "metadata": {
        "id": "57008d3d-e46c-487d-bd8f-6eae4875082b"
      },
      "outputs": [],
      "source": [
        "# Scale\n",
        "samples = np.append(sample_train, sample_test, axis=0)\n",
        "minmax_scale = MinMaxScaler((-1, 1)).fit(samples)\n",
        "sample_train = minmax_scale.transform(sample_train)\n",
        "sample_test = minmax_scale.transform(sample_test)\n",
        "\n"
      ]
    },
    {
      "cell_type": "markdown",
      "id": "fced128a-9695-4d68-a9cf-199194ef7a18",
      "metadata": {
        "id": "fced128a-9695-4d68-a9cf-199194ef7a18"
      },
      "source": [
        "# Seleccionamos una muestra de los datos y en una proporcion de 80% Train y 20% Test"
      ]
    },
    {
      "cell_type": "code",
      "execution_count": 16,
      "id": "d9d764a3-dde9-410a-aeaf-083b2e02d928",
      "metadata": {
        "tags": [],
        "id": "d9d764a3-dde9-410a-aeaf-083b2e02d928"
      },
      "outputs": [],
      "source": [
        "# Select\n",
        "train_size = 500\n",
        "sample_train = sample_train[:train_size]\n",
        "label_train = label_train[:train_size]\n",
        "\n",
        "test_size = 100\n",
        "sample_test = sample_test[:test_size]\n",
        "label_test = label_test[:test_size]"
      ]
    },
    {
      "cell_type": "markdown",
      "id": "8a0548f0-0f90-469f-b176-357d2d9cde0b",
      "metadata": {
        "id": "8a0548f0-0f90-469f-b176-357d2d9cde0b"
      },
      "source": [
        "Visualizamos como quedas los datos conformados en la muestra \"0\" del \"Train\" y el \"Test\" junto con el \"Target\" correspondiente"
      ]
    },
    {
      "cell_type": "code",
      "execution_count": 17,
      "id": "fb340b7b-b1c7-4152-854e-fb241aa5b79b",
      "metadata": {
        "tags": [],
        "colab": {
          "base_uri": "https://localhost:8080/"
        },
        "id": "fb340b7b-b1c7-4152-854e-fb241aa5b79b",
        "outputId": "f280d31e-9d0d-4c86-c57b-38b588e2b787"
      },
      "outputs": [
        {
          "output_type": "stream",
          "name": "stdout",
          "text": [
            "[ 0.23243206  0.14444585 -0.42014426 -0.58103519] 1\n",
            "[ 0.37719379 -0.09567082  0.25903516 -0.08217788] 1\n"
          ]
        }
      ],
      "source": [
        "print(sample_train[0], label_train[0])\n",
        "print(sample_test[0], label_test[0])\n"
      ]
    },
    {
      "cell_type": "markdown",
      "id": "a954c09e-7a0a-4100-83f8-bb2a6812d6c6",
      "metadata": {
        "id": "a954c09e-7a0a-4100-83f8-bb2a6812d6c6"
      },
      "source": [
        "Ahora realizamos un analisis de los resultados obtenidos mediante un modelo clasico utilizando librerias de machine learning \"sklearn\"\n",
        "\n",
        "Modelo utilizado para este analisis Support Vector Machine (SVC)"
      ]
    },
    {
      "cell_type": "code",
      "execution_count": 18,
      "id": "b0bd2a0b-7a82-417a-9398-b9eea3184c98",
      "metadata": {
        "tags": [],
        "colab": {
          "base_uri": "https://localhost:8080/"
        },
        "id": "b0bd2a0b-7a82-417a-9398-b9eea3184c98",
        "outputId": "89e034d9-e4de-465b-e6cb-2a6915d9ea6b"
      },
      "outputs": [
        {
          "output_type": "stream",
          "name": "stdout",
          "text": [
            "Classical SVC on the training dataset: 0.988\n",
            "Classical SVC on the test dataset:     0.990\n"
          ]
        }
      ],
      "source": [
        "from sklearn.svm import SVC\n",
        "\n",
        "svc = SVC()\n",
        "_ = svc.fit(sample_train, label_train)  # suppress printing the return value\n",
        "#Now we check out how well our classical model performs. We will analyze the scores in the conclusion section.\n",
        "\n",
        "train_score_c4 = svc.score(sample_train, label_train)\n",
        "test_score_c4 = svc.score(sample_test, label_test)\n",
        "\n",
        "print(f\"Classical SVC on the training dataset: {train_score_c4:.3f}\")\n",
        "print(f\"Classical SVC on the test dataset:     {test_score_c4:.3f}\")"
      ]
    },
    {
      "cell_type": "markdown",
      "id": "bb8b3264-f087-47bd-9cb1-a2aed506d589",
      "metadata": {
        "id": "bb8b3264-f087-47bd-9cb1-a2aed506d589"
      },
      "source": [
        "# Data Encoding:\n",
        "\n",
        "Tomaremos los datos clásicos y los codificaremos en el espacio de estados cuánticos utilizando un mapa de características cuánticas. La elección de qué mapa de características utilizar es importante y puede depender del conjunto de datos que queramos clasificar. Aquí veremos los mapas de funciones disponibles en Qiskit, antes de seleccionar y personalizar uno para codificar nuestros datos."
      ]
    },
    {
      "cell_type": "markdown",
      "id": "2c4a4005-d824-4c8b-b461-ea792efbd343",
      "metadata": {
        "id": "2c4a4005-d824-4c8b-b461-ea792efbd343"
      },
      "source": [
        "# Quantum Feature map\n",
        "Como sugiere el nombre, un mapa de características cuánticas $\\phi(\\mathbf{x})$ es un mapa del vector de características clásico $\\mathbf{x}$ al estado cuántico $|\\Phi(\\mathbf{x}) \\rangle\\langle\\Phi(\\mathbf{x})|$. Esto se facilita aplicando la operación unitaria $\\mathcal{U}_{\\Phi(\\mathbf{x})}$ en el estado inicial $|0\\rangle^{n}$ donde _n_ es el número de qubits que se utilizan para codificar.\n",
        "\n",
        "Los mapas de características actualmente disponibles en Qiskit ([`PauliFeatureMap`](https://qiskit.org/documentation/stubs/qiskit.circuit.library.PauliFeatureMap.html), [`ZZFeatureMap`](https://qiskit.org /documentation/stubs/qiskit.circuit.library.ZFeatureMap.html) y [`ZFeatureMap`](https://qiskit.org/documentation/stubs/qiskit.circuit.library.ZZFeatureMap.html)) son los introducidos en [ _Havlicek y otros_. Nature **567**, 209-212 (2019)](https://www.nature.com/articles/s41586-019-0980-2), en particular, se conjetura que `ZZFeatureMap` es difícil de simular de forma clásica. y pueden implementarse como circuitos de corta profundidad en dispositivos cuánticos a corto plazo."
      ]
    },
    {
      "cell_type": "markdown",
      "id": "af569ce3-7431-4856-9b63-43f3a01d17e5",
      "metadata": {
        "tags": [],
        "id": "af569ce3-7431-4856-9b63-43f3a01d17e5"
      },
      "source": [
        "# Vamos a utilizar nuetro propio mapa personalizado como se muestra a continuacion:\n",
        "\n",
        "$$\\phi_S:\\mathbf{x}\\mapsto \\Bigg\\{\\begin{array}{ll}\n",
        "    x_i & \\mbox{if}\\ S=\\{i\\} \\\\\n",
        "        \\sin(\\pi-x_i)\\sin(\\pi-x_j) & \\mbox{if}\\ S=\\{i,j\\}\n",
        "    \\end{array}$$"
      ]
    },
    {
      "cell_type": "code",
      "execution_count": 19,
      "id": "3baec399-eb89-4e4d-8fb3-53294831d0d5",
      "metadata": {
        "tags": [],
        "id": "3baec399-eb89-4e4d-8fb3-53294831d0d5"
      },
      "outputs": [],
      "source": [
        "import functools\n",
        "def custom_data_map_func(x):\n",
        "    coeff = x[0] if len(x) == 1 else functools.reduce(lambda m, n: m * n, np.sin(np.pi - x))\n",
        "    return coeff"
      ]
    },
    {
      "cell_type": "code",
      "execution_count": 20,
      "id": "9cf2fa79-516b-4372-9698-2ba0a7551d4a",
      "metadata": {
        "tags": [],
        "id": "9cf2fa79-516b-4372-9698-2ba0a7551d4a"
      },
      "outputs": [],
      "source": [
        "map_customdatamap = PauliFeatureMap(feature_dimension=4, reps=1, paulis=['I','Z','ZZ'],\n",
        "                                    data_map_func=custom_data_map_func)\n"
      ]
    },
    {
      "cell_type": "code",
      "execution_count": 23,
      "id": "3c1b97e4-9efe-4a10-b5e2-2aecfc64c104",
      "metadata": {
        "tags": [],
        "colab": {
          "base_uri": "https://localhost:8080/",
          "height": 294
        },
        "id": "3c1b97e4-9efe-4a10-b5e2-2aecfc64c104",
        "outputId": "c0bb106d-de90-483f-939b-3c75ee83aeb9"
      },
      "outputs": [
        {
          "output_type": "execute_result",
          "data": {
            "text/plain": [
              "     ┌──────────┐┌──────────┐ ░                 ░  ┌──────────┐┌───────────┐ ░ »\n",
              "q_0: ┤ Ry(θ[0]) ├┤ Rz(θ[4]) ├─░─────────────■───░──┤ Ry(θ[8]) ├┤ Rz(θ[12]) ├─░─»\n",
              "     ├──────────┤├──────────┤ ░           ┌─┴─┐ ░  ├──────────┤├───────────┤ ░ »\n",
              "q_1: ┤ Ry(θ[1]) ├┤ Rz(θ[5]) ├─░────────■──┤ X ├─░──┤ Ry(θ[9]) ├┤ Rz(θ[13]) ├─░─»\n",
              "     ├──────────┤├──────────┤ ░      ┌─┴─┐└───┘ ░ ┌┴──────────┤├───────────┤ ░ »\n",
              "q_2: ┤ Ry(θ[2]) ├┤ Rz(θ[6]) ├─░───■──┤ X ├──────░─┤ Ry(θ[10]) ├┤ Rz(θ[14]) ├─░─»\n",
              "     ├──────────┤├──────────┤ ░ ┌─┴─┐└───┘      ░ ├───────────┤├───────────┤ ░ »\n",
              "q_3: ┤ Ry(θ[3]) ├┤ Rz(θ[7]) ├─░─┤ X ├───────────░─┤ Ry(θ[11]) ├┤ Rz(θ[15]) ├─░─»\n",
              "     └──────────┘└──────────┘ ░ └───┘           ░ └───────────┘└───────────┘ ░ »\n",
              "«                     ░ ┌───────────┐┌───────────┐\n",
              "«q_0: ────────────■───░─┤ Ry(θ[16]) ├┤ Rz(θ[20]) ├\n",
              "«               ┌─┴─┐ ░ ├───────────┤├───────────┤\n",
              "«q_1: ───────■──┤ X ├─░─┤ Ry(θ[17]) ├┤ Rz(θ[21]) ├\n",
              "«          ┌─┴─┐└───┘ ░ ├───────────┤├───────────┤\n",
              "«q_2: ──■──┤ X ├──────░─┤ Ry(θ[18]) ├┤ Rz(θ[22]) ├\n",
              "«     ┌─┴─┐└───┘      ░ ├───────────┤├───────────┤\n",
              "«q_3: ┤ X ├───────────░─┤ Ry(θ[19]) ├┤ Rz(θ[23]) ├\n",
              "«     └───┘           ░ └───────────┘└───────────┘"
            ],
            "text/html": [
              "<pre style=\"word-wrap: normal;white-space: pre;background: #fff0;line-height: 1.1;font-family: &quot;Courier New&quot;,Courier,monospace\">     ┌──────────┐┌──────────┐ ░                 ░  ┌──────────┐┌───────────┐ ░ »\n",
              "q_0: ┤ Ry(θ[0]) ├┤ Rz(θ[4]) ├─░─────────────■───░──┤ Ry(θ[8]) ├┤ Rz(θ[12]) ├─░─»\n",
              "     ├──────────┤├──────────┤ ░           ┌─┴─┐ ░  ├──────────┤├───────────┤ ░ »\n",
              "q_1: ┤ Ry(θ[1]) ├┤ Rz(θ[5]) ├─░────────■──┤ X ├─░──┤ Ry(θ[9]) ├┤ Rz(θ[13]) ├─░─»\n",
              "     ├──────────┤├──────────┤ ░      ┌─┴─┐└───┘ ░ ┌┴──────────┤├───────────┤ ░ »\n",
              "q_2: ┤ Ry(θ[2]) ├┤ Rz(θ[6]) ├─░───■──┤ X ├──────░─┤ Ry(θ[10]) ├┤ Rz(θ[14]) ├─░─»\n",
              "     ├──────────┤├──────────┤ ░ ┌─┴─┐└───┘      ░ ├───────────┤├───────────┤ ░ »\n",
              "q_3: ┤ Ry(θ[3]) ├┤ Rz(θ[7]) ├─░─┤ X ├───────────░─┤ Ry(θ[11]) ├┤ Rz(θ[15]) ├─░─»\n",
              "     └──────────┘└──────────┘ ░ └───┘           ░ └───────────┘└───────────┘ ░ »\n",
              "«                     ░ ┌───────────┐┌───────────┐\n",
              "«q_0: ────────────■───░─┤ Ry(θ[16]) ├┤ Rz(θ[20]) ├\n",
              "«               ┌─┴─┐ ░ ├───────────┤├───────────┤\n",
              "«q_1: ───────■──┤ X ├─░─┤ Ry(θ[17]) ├┤ Rz(θ[21]) ├\n",
              "«          ┌─┴─┐└───┘ ░ ├───────────┤├───────────┤\n",
              "«q_2: ──■──┤ X ├──────░─┤ Ry(θ[18]) ├┤ Rz(θ[22]) ├\n",
              "«     ┌─┴─┐└───┘      ░ ├───────────┤├───────────┤\n",
              "«q_3: ┤ X ├───────────░─┤ Ry(θ[19]) ├┤ Rz(θ[23]) ├\n",
              "«     └───┘           ░ └───────────┘└───────────┘</pre>"
            ]
          },
          "metadata": {},
          "execution_count": 23
        }
      ],
      "source": [
        "from qiskit.circuit.library import EfficientSU2\n",
        "\n",
        "ansatz = EfficientSU2(num_qubits=4, reps=2,insert_barriers=True)\n",
        "ansatz.decompose().draw()"
      ]
    },
    {
      "cell_type": "markdown",
      "id": "51219a43-eb9f-4f6d-bc2c-d8ce13131582",
      "metadata": {
        "id": "51219a43-eb9f-4f6d-bc2c-d8ce13131582"
      },
      "source": [
        "# Optimizador:\n",
        "utilizamos el Optimizador COBYLA para optimizar nuestro algoritmo"
      ]
    },
    {
      "cell_type": "code",
      "execution_count": 24,
      "id": "219fc22b-eff6-46f2-965a-75cc7031bd22",
      "metadata": {
        "tags": [],
        "id": "219fc22b-eff6-46f2-965a-75cc7031bd22"
      },
      "outputs": [],
      "source": [
        "from qiskit.algorithms.optimizers import COBYLA\n",
        "\n",
        "optimizer = COBYLA(maxiter=100)"
      ]
    },
    {
      "cell_type": "markdown",
      "id": "c32b9611-16d0-437d-80c7-d940bcd61e72",
      "metadata": {
        "id": "c32b9611-16d0-437d-80c7-d940bcd61e72"
      },
      "source": [
        "# Sampler\n",
        "Utilizamos librerias de Qiskit primitives como el Sampler, que se utiliza para lanzar la ejucucion del circuito cuantico en el simulador de Qiskit"
      ]
    },
    {
      "cell_type": "code",
      "execution_count": 25,
      "id": "4402fce5-e9ac-4b42-8afd-af28e9b9ac81",
      "metadata": {
        "tags": [],
        "id": "4402fce5-e9ac-4b42-8afd-af28e9b9ac81"
      },
      "outputs": [],
      "source": [
        "from qiskit.primitives import Sampler\n",
        "\n",
        "sampler = Sampler()"
      ]
    },
    {
      "cell_type": "markdown",
      "id": "ab462e02-eb49-4218-bf87-4b362f4f21e0",
      "metadata": {
        "id": "ab462e02-eb49-4218-bf87-4b362f4f21e0"
      },
      "source": [
        "# Funccion  callback_graph(weights, obj_func_eval):\n",
        "\n",
        "Mediante esta funcion realizamos la ejecucion de una grafica animada que nos muestra el desarrollo en tiempo real de la ejecucion de nuestro modelo de y como va tomando muestras y alcanzando la convergencia de nuestro medelo final\n",
        "    "
      ]
    },
    {
      "cell_type": "code",
      "execution_count": 26,
      "id": "b5cb6960-65e4-47a3-a44f-3a388b686278",
      "metadata": {
        "tags": [],
        "id": "b5cb6960-65e4-47a3-a44f-3a388b686278"
      },
      "outputs": [],
      "source": [
        "from matplotlib import pyplot as plt\n",
        "from IPython.display import clear_output\n",
        "\n",
        "objective_func_vals = []\n",
        "plt.rcParams[\"figure.figsize\"] = (12, 6)\n",
        "\n",
        "\n",
        "def callback_graph(weights, obj_func_eval):\n",
        "    clear_output(wait=True)\n",
        "    objective_func_vals.append(obj_func_eval)\n",
        "    plt.title(\"Objective function value against iteration\")\n",
        "    plt.xlabel(\"Iteration\")\n",
        "    plt.ylabel(\"Objective function value\")\n",
        "    plt.plot(range(len(objective_func_vals)), objective_func_vals)\n",
        "    plt.show()"
      ]
    },
    {
      "cell_type": "markdown",
      "id": "9faf311e-f48d-438a-bde6-e2d18de95282",
      "metadata": {
        "id": "9faf311e-f48d-438a-bde6-e2d18de95282"
      },
      "source": [
        "# Clasificador cuántico variacional (VQC)\n",
        "Entrenaremos un clasificador cuántico variacional (VQC). El VQC es el clasificador más simple disponible en Qiskit Machine Learning"
      ]
    },
    {
      "cell_type": "code",
      "execution_count": null,
      "id": "4f993e56-ab8b-4014-a13c-c6ef634a0f3f",
      "metadata": {
        "tags": [],
        "colab": {
          "base_uri": "https://localhost:8080/",
          "height": 564
        },
        "id": "4f993e56-ab8b-4014-a13c-c6ef634a0f3f",
        "outputId": "d1b1fde9-8b29-43a7-a447-fdc25112fc0a"
      },
      "outputs": [
        {
          "data": {
            "image/png": "[encoded data removed]",
            "text/plain": [
              "<Figure size 1200x600 with 1 Axes>"
            ]
          },
          "metadata": {},
          "output_type": "display_data"
        }
      ],
      "source": [
        "import time\n",
        "from qiskit_machine_learning.algorithms.classifiers import VQC\n",
        "\n",
        "vqc = VQC(\n",
        "    sampler=sampler,\n",
        "    feature_map=map_customdatamap,\n",
        "    ansatz=ansatz,\n",
        "    optimizer=optimizer,\n",
        "    callback=callback_graph,\n",
        ")\n",
        "\n",
        "# clear objective value history\n",
        "objective_func_vals = []\n",
        "\n",
        "start = time.time()\n",
        "vqc.fit(sample_train, label_train)\n",
        "elapsed = time.time() - start\n",
        "\n",
        "print(f\"Training time: {round(elapsed)} seconds\")"
      ]
    },
    {
      "cell_type": "code",
      "execution_count": 29,
      "id": "89d5a3a7-b113-4f0f-ac37-8c443f19c320",
      "metadata": {
        "colab": {
          "base_uri": "https://localhost:8080/"
        },
        "id": "89d5a3a7-b113-4f0f-ac37-8c443f19c320",
        "outputId": "75ed6781-2a1a-4ce9-fb0a-a5d63610836c"
      },
      "outputs": [
        {
          "output_type": "stream",
          "name": "stdout",
          "text": [
            "Quantum VQC on the training dataset: 0.95\n",
            "Quantum VQC on the test dataset:     0.94\n"
          ]
        }
      ],
      "source": [
        "train_score_q4 = vqc.score(sample_train, label_train)\n",
        "test_score_q4 = vqc.score(sample_test, label_test)\n",
        "\n",
        "print(f\"Quantum VQC on the training dataset: {train_score_q4:.2f}\")\n",
        "print(f\"Quantum VQC on the test dataset:     {test_score_q4:.2f}\")"
      ]
    },
    {
      "cell_type": "code",
      "execution_count": null,
      "id": "54644234-e4d0-461d-89ca-efbfc213defb",
      "metadata": {
        "id": "54644234-e4d0-461d-89ca-efbfc213defb"
      },
      "outputs": [],
      "source": []
    },
    {
      "cell_type": "code",
      "execution_count": null,
      "id": "5aeb3b64-66da-4d49-88b3-517fbe584a11",
      "metadata": {
        "id": "5aeb3b64-66da-4d49-88b3-517fbe584a11"
      },
      "outputs": [],
      "source": []
    }
  ],
  "metadata": {
    "kernelspec": {
      "display_name": "Python 3 (ipykernel)",
      "language": "python",
      "name": "python3"
    },
    "language_info": {
      "codemirror_mode": {
        "name": "ipython",
        "version": 3
      },
      "file_extension": ".py",
      "mimetype": "text/x-python",
      "name": "python",
      "nbconvert_exporter": "python",
      "pygments_lexer": "ipython3",
      "version": "3.10.8"
    },
    "colab": {
      "provenance": []
    }
  },
  "nbformat": 4,
  "nbformat_minor": 5
}